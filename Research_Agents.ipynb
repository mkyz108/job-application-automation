{
 "cells": [
  {
   "cell_type": "markdown",
   "metadata": {},
   "source": [
    "You can download the `requirements.txt` for this course from the workspace of this lab. `File --> Open...`"
   ]
  },
  {
   "cell_type": "markdown",
   "metadata": {},
   "source": [
    "#  Create Agents to Research and Write an Article\n",
    "\n",
    "In this lesson, you will be introduced to the foundational concepts of multi-agent systems and get an overview of the crewAI framework."
   ]
  },
  {
   "cell_type": "code",
   "execution_count": 7,
   "metadata": {},
   "outputs": [
    {
     "name": "stdout",
     "output_type": "stream",
     "text": [
      "/Users/cyber/Desktop/MKAI/venv/bin/python\n"
     ]
    }
   ],
   "source": [
    "!which python\n"
   ]
  },
  {
   "cell_type": "markdown",
   "metadata": {},
   "source": [
    "The libraries are already installed in the classroom. If you're running this notebook on your own machine, you can install the following:\n",
    "```Python\n",
    "!pip install crewai==0.28.8 crewai_tools==0.1.6 langchain_community==0.0.29\n",
    "```"
   ]
  },
  {
   "cell_type": "code",
   "execution_count": 8,
   "metadata": {
    "height": 64
   },
   "outputs": [],
   "source": [
    "# Warning control\n",
    "import warnings\n",
    "warnings.filterwarnings('ignore')"
   ]
  },
  {
   "cell_type": "markdown",
   "metadata": {},
   "source": [
    "- Import from the crewAI libray."
   ]
  },
  {
   "cell_type": "code",
   "execution_count": 9,
   "metadata": {
    "height": 30
   },
   "outputs": [],
   "source": [
    "from crewai import Agent, Task, Crew"
   ]
  },
  {
   "cell_type": "markdown",
   "metadata": {},
   "source": [
    "- As a LLM for your agents, you'll be using OpenAI's `gpt-3.5-turbo`.\n",
    "\n",
    "**Optional Note:** crewAI also allow other popular models to be used as a LLM for your Agents. You can see some of the examples at the [bottom of the notebook](#1)."
   ]
  },
  {
   "cell_type": "code",
   "execution_count": 10,
   "metadata": {
    "height": 98
   },
   "outputs": [],
   "source": [
    "import os\n",
    "from utils import get_openai_api_key\n",
    "\n",
    "openai_api_key = get_openai_api_key()\n",
    "os.environ[\"OPENAI_MODEL_NAME\"] = 'gpt-3.5-turbo'"
   ]
  },
  {
   "cell_type": "markdown",
   "metadata": {},
   "source": [
    "## Creating Agents\n",
    "\n",
    "- Define your Agents, and provide them a `role`, `goal` and `backstory`.\n",
    "- It has been seen that LLMs perform better when they are role playing."
   ]
  },
  {
   "cell_type": "markdown",
   "metadata": {},
   "source": [
    "### Agent: Planner\n",
    "\n",
    "**Note**: The benefit of using _multiple strings_ :\n",
    "```Python\n",
    "varname = \"line 1 of text\"\n",
    "          \"line 2 of text\"\n",
    "```\n",
    "\n",
    "versus the _triple quote docstring_:\n",
    "```Python\n",
    "varname = \"\"\"line 1 of text\n",
    "             line 2 of text\n",
    "          \"\"\"\n",
    "```\n",
    "is that it can avoid adding those whitespaces and newline characters, making it better formatted to be passed to the LLM."
   ]
  },
  {
   "cell_type": "code",
   "execution_count": 11,
   "metadata": {
    "height": 234
   },
   "outputs": [],
   "source": [
    "planner = Agent(\n",
    "    role=\"Content Planner\",\n",
    "    goal=\"Plan engaging and factually accurate content on {topic}\",\n",
    "    backstory=\"You're working on planning a blog article \"\n",
    "              \"about the topic: {topic}.\"\n",
    "              \"You collect information that helps the \"\n",
    "              \"audience learn something \"\n",
    "              \"and make informed decisions. \"\n",
    "              \"Your work is the basis for \"\n",
    "              \"the Content Writer to write an article on this topic.\",\n",
    "    allow_delegation=False,\n",
    "\tverbose=True\n",
    ")"
   ]
  },
  {
   "cell_type": "markdown",
   "metadata": {},
   "source": [
    "### Agent: Writer"
   ]
  },
  {
   "cell_type": "code",
   "execution_count": 12,
   "metadata": {
    "height": 370
   },
   "outputs": [],
   "source": [
    "writer = Agent(\n",
    "    role=\"Content Writer\",\n",
    "    goal=\"Write insightful and factually accurate \"\n",
    "         \"opinion piece about the topic: {topic}\",\n",
    "    backstory=\"You're working on a writing \"\n",
    "              \"a new opinion piece about the topic: {topic}. \"\n",
    "              \"You base your writing on the work of \"\n",
    "              \"the Content Planner, who provides an outline \"\n",
    "              \"and relevant context about the topic. \"\n",
    "              \"You follow the main objectives and \"\n",
    "              \"direction of the outline, \"\n",
    "              \"as provide by the Content Planner. \"\n",
    "              \"You also provide objective and impartial insights \"\n",
    "              \"and back them up with information \"\n",
    "              \"provide by the Content Planner. \"\n",
    "              \"You acknowledge in your opinion piece \"\n",
    "              \"when your statements are opinions \"\n",
    "              \"as opposed to objective statements.\",\n",
    "    allow_delegation=False,\n",
    "    verbose=True\n",
    ")"
   ]
  },
  {
   "cell_type": "markdown",
   "metadata": {},
   "source": [
    "### Agent: Editor"
   ]
  },
  {
   "cell_type": "code",
   "execution_count": 13,
   "metadata": {
    "height": 268
   },
   "outputs": [],
   "source": [
    "editor = Agent(\n",
    "    role=\"Editor\",\n",
    "    goal=\"Edit a given blog post to align with \"\n",
    "         \"the writing style of the organization. \",\n",
    "    backstory=\"You are an editor who receives a blog post \"\n",
    "              \"from the Content Writer. \"\n",
    "              \"Your goal is to review the blog post \"\n",
    "              \"to ensure that it follows journalistic best practices,\"\n",
    "              \"provides balanced viewpoints \"\n",
    "              \"when providing opinions or assertions, \"\n",
    "              \"and also avoids major controversial topics \"\n",
    "              \"or opinions when possible.\",\n",
    "    allow_delegation=False,\n",
    "    verbose=True\n",
    ")"
   ]
  },
  {
   "cell_type": "markdown",
   "metadata": {},
   "source": [
    "## Creating Tasks\n",
    "\n",
    "- Define your Tasks, and provide them a `description`, `expected_output` and `agent`."
   ]
  },
  {
   "cell_type": "markdown",
   "metadata": {},
   "source": [
    "### Task: Plan"
   ]
  },
  {
   "cell_type": "code",
   "execution_count": 14,
   "metadata": {
    "height": 268
   },
   "outputs": [],
   "source": [
    "plan = Task(\n",
    "    description=(\n",
    "        \"1. Prioritize the latest trends, key players, \"\n",
    "            \"and noteworthy news on {topic}.\\n\"\n",
    "        \"2. Identify the target audience, considering \"\n",
    "            \"their interests and pain points.\\n\"\n",
    "        \"3. Develop a detailed content outline including \"\n",
    "            \"an introduction, key points, and a call to action.\\n\"\n",
    "        \"4. Include SEO keywords and relevant data or sources.\"\n",
    "    ),\n",
    "    expected_output=\"A comprehensive content plan document \"\n",
    "        \"with an outline, audience analysis, \"\n",
    "        \"SEO keywords, and resources.\",\n",
    "    agent=planner,\n",
    ")"
   ]
  },
  {
   "cell_type": "markdown",
   "metadata": {},
   "source": [
    "### Task: Write"
   ]
  },
  {
   "cell_type": "code",
   "execution_count": 15,
   "metadata": {
    "height": 319
   },
   "outputs": [],
   "source": [
    "write = Task(\n",
    "    description=(\n",
    "        \"1. Use the content plan to craft a compelling \"\n",
    "            \"blog post on {topic}.\\n\"\n",
    "        \"2. Incorporate SEO keywords naturally.\\n\"\n",
    "\t\t\"3. Sections/Subtitles are properly named \"\n",
    "            \"in an engaging manner.\\n\"\n",
    "        \"4. Ensure the post is structured with an \"\n",
    "            \"engaging introduction, insightful body, \"\n",
    "            \"and a summarizing conclusion.\\n\"\n",
    "        \"5. Proofread for grammatical errors and \"\n",
    "            \"alignment with the brand's voice.\\n\"\n",
    "    ),\n",
    "    expected_output=\"A well-written blog post \"\n",
    "        \"in markdown format, ready for publication, \"\n",
    "        \"each section should have 2 or 3 paragraphs.\",\n",
    "    agent=writer,\n",
    ")"
   ]
  },
  {
   "cell_type": "markdown",
   "metadata": {},
   "source": [
    "### Task: Edit"
   ]
  },
  {
   "cell_type": "code",
   "execution_count": 16,
   "metadata": {
    "height": 166
   },
   "outputs": [],
   "source": [
    "edit = Task(\n",
    "    description=(\"Proofread the given blog post for \"\n",
    "                 \"grammatical errors and \"\n",
    "                 \"alignment with the brand's voice.\"),\n",
    "    expected_output=\"A well-written blog post in markdown format, \"\n",
    "                    \"ready for publication, \"\n",
    "                    \"each section should have 2 or 3 paragraphs.\",\n",
    "    agent=editor\n",
    ")"
   ]
  },
  {
   "cell_type": "markdown",
   "metadata": {},
   "source": [
    "## Creating the Crew\n",
    "\n",
    "- Create your crew of Agents\n",
    "- Pass the tasks to be performed by those agents.\n",
    "    - **Note**: *For this simple example*, the tasks will be performed sequentially (i.e they are dependent on each other), so the _order_ of the task in the list _matters_.\n",
    "- `verbose=2` allows you to see all the logs of the execution. "
   ]
  },
  {
   "cell_type": "code",
   "execution_count": 17,
   "metadata": {
    "height": 98
   },
   "outputs": [],
   "source": [
    "crew = Crew(\n",
    "    agents=[planner, writer, editor],\n",
    "    tasks=[plan, write, edit],\n",
    "    verbose=2\n",
    ")"
   ]
  },
  {
   "cell_type": "markdown",
   "metadata": {},
   "source": [
    "## Running the Crew"
   ]
  },
  {
   "cell_type": "markdown",
   "metadata": {},
   "source": [
    "**Note**: LLMs can provide different outputs for they same input, so what you get might be different than what you see in the video."
   ]
  },
  {
   "cell_type": "code",
   "execution_count": 18,
   "metadata": {
    "height": 30
   },
   "outputs": [
    {
     "name": "stdout",
     "output_type": "stream",
     "text": [
      "\u001b[1m\u001b[95m [DEBUG]: == Working Agent: Content Planner\u001b[00m\n",
      "\u001b[1m\u001b[95m [INFO]: == Starting Task: 1. Prioritize the latest trends, key players, and noteworthy news on Artificial Intelligence.\n",
      "2. Identify the target audience, considering their interests and pain points.\n",
      "3. Develop a detailed content outline including an introduction, key points, and a call to action.\n",
      "4. Include SEO keywords and relevant data or sources.\u001b[00m\n",
      "\n",
      "\n",
      "\u001b[1m> Entering new CrewAgentExecutor chain...\u001b[0m\n",
      "\u001b[32;1m\u001b[1;3mI now can give a great answer\n",
      "\n",
      "Final Answer: \n",
      "\n",
      "Content Plan Document\n",
      "\n",
      "Topic: Artificial Intelligence\n",
      "\n",
      "Outline:\n",
      "I. Introduction\n",
      "- Definition of Artificial Intelligence\n",
      "- Importance and impact of AI in various industries\n",
      "- Brief overview of the latest trends in AI\n",
      "\n",
      "II. Key Points\n",
      "A. Latest Trends in AI\n",
      "1. Machine learning advancements\n",
      "2. Natural language processing innovations\n",
      "3. AI in robotics and automation\n",
      "4. Ethical considerations in AI development\n",
      "\n",
      "B. Key Players in AI\n",
      "1. Google\n",
      "2. IBM\n",
      "3. Amazon\n",
      "4. Microsoft\n",
      "\n",
      "C. Noteworthy News in AI\n",
      "1. Breakthroughs in AI healthcare applications\n",
      "2. AI-driven customer service solutions\n",
      "3. Government regulations on AI technology\n",
      "\n",
      "III. Target Audience Analysis\n",
      "- Tech-savvy individuals interested in AI advancements and applications\n",
      "- Business professionals seeking to implement AI solutions in their organizations\n",
      "- Students and researchers in the field of artificial intelligence\n",
      "- Policy makers and regulators focusing on AI ethics and regulations\n",
      "\n",
      "IV. SEO Keywords\n",
      "- Artificial Intelligence\n",
      "- Machine Learning\n",
      "- Deep Learning\n",
      "- AI Trends\n",
      "- AI Companies\n",
      "- AI News\n",
      "\n",
      "V. Resources\n",
      "1. \"Artificial Intelligence: A Modern Approach\" by Stuart Russell and Peter Norvig\n",
      "2. Forbes article on \"Top AI Trends to Watch in 2021\"\n",
      "3. Gartner report on \"Key Players in the AI Market\"\n",
      "4. TED Talk on \"The Future of Artificial Intelligence\" by Andrew Ng\n",
      "\n",
      "Call to Action:\n",
      "Stay updated on the latest trends and developments in Artificial Intelligence by subscribing to our blog for regular updates and insights.\n",
      "\n",
      "This comprehensive content plan document outlines the key elements for a blog article on Artificial Intelligence, including the latest trends, key players, noteworthy news, target audience analysis, SEO keywords, and relevant resources. It aims to provide engaging and factually accurate content to inform and educate the audience on the topic of Artificial Intelligence.\u001b[0m\n",
      "\n",
      "\u001b[1m> Finished chain.\u001b[0m\n",
      "\u001b[1m\u001b[92m [DEBUG]: == [Content Planner] Task output: Content Plan Document\n",
      "\n",
      "Topic: Artificial Intelligence\n",
      "\n",
      "Outline:\n",
      "I. Introduction\n",
      "- Definition of Artificial Intelligence\n",
      "- Importance and impact of AI in various industries\n",
      "- Brief overview of the latest trends in AI\n",
      "\n",
      "II. Key Points\n",
      "A. Latest Trends in AI\n",
      "1. Machine learning advancements\n",
      "2. Natural language processing innovations\n",
      "3. AI in robotics and automation\n",
      "4. Ethical considerations in AI development\n",
      "\n",
      "B. Key Players in AI\n",
      "1. Google\n",
      "2. IBM\n",
      "3. Amazon\n",
      "4. Microsoft\n",
      "\n",
      "C. Noteworthy News in AI\n",
      "1. Breakthroughs in AI healthcare applications\n",
      "2. AI-driven customer service solutions\n",
      "3. Government regulations on AI technology\n",
      "\n",
      "III. Target Audience Analysis\n",
      "- Tech-savvy individuals interested in AI advancements and applications\n",
      "- Business professionals seeking to implement AI solutions in their organizations\n",
      "- Students and researchers in the field of artificial intelligence\n",
      "- Policy makers and regulators focusing on AI ethics and regulations\n",
      "\n",
      "IV. SEO Keywords\n",
      "- Artificial Intelligence\n",
      "- Machine Learning\n",
      "- Deep Learning\n",
      "- AI Trends\n",
      "- AI Companies\n",
      "- AI News\n",
      "\n",
      "V. Resources\n",
      "1. \"Artificial Intelligence: A Modern Approach\" by Stuart Russell and Peter Norvig\n",
      "2. Forbes article on \"Top AI Trends to Watch in 2021\"\n",
      "3. Gartner report on \"Key Players in the AI Market\"\n",
      "4. TED Talk on \"The Future of Artificial Intelligence\" by Andrew Ng\n",
      "\n",
      "Call to Action:\n",
      "Stay updated on the latest trends and developments in Artificial Intelligence by subscribing to our blog for regular updates and insights.\n",
      "\n",
      "This comprehensive content plan document outlines the key elements for a blog article on Artificial Intelligence, including the latest trends, key players, noteworthy news, target audience analysis, SEO keywords, and relevant resources. It aims to provide engaging and factually accurate content to inform and educate the audience on the topic of Artificial Intelligence.\n",
      "\n",
      "\u001b[00m\n",
      "\u001b[1m\u001b[95m [DEBUG]: == Working Agent: Content Writer\u001b[00m\n",
      "\u001b[1m\u001b[95m [INFO]: == Starting Task: 1. Use the content plan to craft a compelling blog post on Artificial Intelligence.\n",
      "2. Incorporate SEO keywords naturally.\n",
      "3. Sections/Subtitles are properly named in an engaging manner.\n",
      "4. Ensure the post is structured with an engaging introduction, insightful body, and a summarizing conclusion.\n",
      "5. Proofread for grammatical errors and alignment with the brand's voice.\n",
      "\u001b[00m\n",
      "\n",
      "\n",
      "\u001b[1m> Entering new CrewAgentExecutor chain...\u001b[0m\n",
      "\u001b[32;1m\u001b[1;3mI now can give a great answer\n",
      "\n",
      "Final Answer:\n",
      "\n",
      "# The Rise of Artificial Intelligence: Trends, Players, and Ethical Considerations\n",
      "\n",
      "## Introduction\n",
      "\n",
      "Artificial Intelligence, commonly referred to as AI, is a rapidly evolving technology that strives to mimic human intelligence by learning from data, adapting to new information, and performing tasks that typically require human intelligence. The impact of AI spans across various industries, from healthcare and finance to retail and transportation, revolutionizing processes and decision-making. The latest trends in AI showcase advancements in machine learning, natural language processing, robotics, and automation, paving the way for innovative solutions and unprecedented growth in the field.\n",
      "\n",
      "## Key Points\n",
      "\n",
      "### Latest Trends in AI\n",
      "\n",
      "1. **Machine Learning Advancements**: Machine learning algorithms continue to improve in accuracy and efficiency, enabling AI systems to learn from data and make predictions without explicit programming.\n",
      "   \n",
      "2. **Natural Language Processing Innovations**: AI-driven natural language processing tools are enhancing communication between humans and machines, leading to breakthroughs in language translation, sentiment analysis, and chatbots.\n",
      "   \n",
      "3. **AI in Robotics and Automation**: The integration of AI in robotics and automation processes is streamlining operations, increasing productivity, and enhancing safety in manufacturing, logistics, and other industries.\n",
      "   \n",
      "4. **Ethical Considerations in AI Development**: As AI technologies become more prevalent, ethical considerations around data privacy, bias in algorithms, and job displacement are crucial aspects that require careful evaluation and regulation.\n",
      "\n",
      "### Key Players in AI\n",
      "\n",
      "1. **Google**: Google's deep investments in AI research and development have led to the creation of innovative products like Google Assistant, Google Translate, and autonomous vehicles through its subsidiary, Waymo.\n",
      "   \n",
      "2. **IBM**: IBM's Watson AI platform is a pioneer in cognitive computing, offering solutions for healthcare, finance, and cybersecurity, and collaborating with organizations to leverage AI for business transformation.\n",
      "   \n",
      "3. **Amazon**: Amazon's AI initiatives focus on improving customer experience through personalized recommendations, efficient logistics with robots, and voice-controlled devices like Amazon Echo powered by Alexa.\n",
      "   \n",
      "4. **Microsoft**: Microsoft's AI capabilities drive digital transformation with Azure AI services, cognitive services, and conversational AI tools, empowering businesses to harness the power of AI for growth and innovation.\n",
      "\n",
      "### Noteworthy News in AI\n",
      "\n",
      "1. **Breakthroughs in AI Healthcare Applications**: AI technologies are revolutionizing healthcare with predictive analytics, medical imaging diagnosis, and personalized treatment plans, improving patient outcomes and reducing healthcare costs.\n",
      "   \n",
      "2. **AI-Driven Customer Service Solutions**: Businesses are leveraging AI for customer service automation, chatbots, and virtual assistants to enhance customer satisfaction, resolve queries efficiently, and provide personalized experiences.\n",
      "   \n",
      "3. **Government Regulations on AI Technology**: Governments worldwide are introducing regulations and guidelines to address ethical concerns, data protection, and transparency in AI development and deployment, ensuring responsible AI use and accountability.\n",
      "\n",
      "## Target Audience Analysis\n",
      "\n",
      "AI enthusiasts, tech-savvy individuals, business professionals, students, researchers, and policymakers are the key audience segments interested in AI advancements, applications, and ethical implications. Stay updated on the latest trends and developments in Artificial Intelligence by subscribing to our blog for regular updates and insights.\n",
      "\n",
      "In conclusion, Artificial Intelligence is a transformative technology with the potential to reshape industries, enhance productivity, and improve decision-making processes. As AI continues to evolve, it is essential to stay informed about the latest trends, key players, and ethical considerations to navigate the complex landscape of AI development and deployment. Embracing AI responsibly and ethically will lead to a future where humans and machines collaborate harmoniously for the betterment of society.\u001b[0m\n",
      "\n",
      "\u001b[1m> Finished chain.\u001b[0m\n",
      "\u001b[1m\u001b[92m [DEBUG]: == [Content Writer] Task output: # The Rise of Artificial Intelligence: Trends, Players, and Ethical Considerations\n",
      "\n",
      "## Introduction\n",
      "\n",
      "Artificial Intelligence, commonly referred to as AI, is a rapidly evolving technology that strives to mimic human intelligence by learning from data, adapting to new information, and performing tasks that typically require human intelligence. The impact of AI spans across various industries, from healthcare and finance to retail and transportation, revolutionizing processes and decision-making. The latest trends in AI showcase advancements in machine learning, natural language processing, robotics, and automation, paving the way for innovative solutions and unprecedented growth in the field.\n",
      "\n",
      "## Key Points\n",
      "\n",
      "### Latest Trends in AI\n",
      "\n",
      "1. **Machine Learning Advancements**: Machine learning algorithms continue to improve in accuracy and efficiency, enabling AI systems to learn from data and make predictions without explicit programming.\n",
      "   \n",
      "2. **Natural Language Processing Innovations**: AI-driven natural language processing tools are enhancing communication between humans and machines, leading to breakthroughs in language translation, sentiment analysis, and chatbots.\n",
      "   \n",
      "3. **AI in Robotics and Automation**: The integration of AI in robotics and automation processes is streamlining operations, increasing productivity, and enhancing safety in manufacturing, logistics, and other industries.\n",
      "   \n",
      "4. **Ethical Considerations in AI Development**: As AI technologies become more prevalent, ethical considerations around data privacy, bias in algorithms, and job displacement are crucial aspects that require careful evaluation and regulation.\n",
      "\n",
      "### Key Players in AI\n",
      "\n",
      "1. **Google**: Google's deep investments in AI research and development have led to the creation of innovative products like Google Assistant, Google Translate, and autonomous vehicles through its subsidiary, Waymo.\n",
      "   \n",
      "2. **IBM**: IBM's Watson AI platform is a pioneer in cognitive computing, offering solutions for healthcare, finance, and cybersecurity, and collaborating with organizations to leverage AI for business transformation.\n",
      "   \n",
      "3. **Amazon**: Amazon's AI initiatives focus on improving customer experience through personalized recommendations, efficient logistics with robots, and voice-controlled devices like Amazon Echo powered by Alexa.\n",
      "   \n",
      "4. **Microsoft**: Microsoft's AI capabilities drive digital transformation with Azure AI services, cognitive services, and conversational AI tools, empowering businesses to harness the power of AI for growth and innovation.\n",
      "\n",
      "### Noteworthy News in AI\n",
      "\n",
      "1. **Breakthroughs in AI Healthcare Applications**: AI technologies are revolutionizing healthcare with predictive analytics, medical imaging diagnosis, and personalized treatment plans, improving patient outcomes and reducing healthcare costs.\n",
      "   \n",
      "2. **AI-Driven Customer Service Solutions**: Businesses are leveraging AI for customer service automation, chatbots, and virtual assistants to enhance customer satisfaction, resolve queries efficiently, and provide personalized experiences.\n",
      "   \n",
      "3. **Government Regulations on AI Technology**: Governments worldwide are introducing regulations and guidelines to address ethical concerns, data protection, and transparency in AI development and deployment, ensuring responsible AI use and accountability.\n",
      "\n",
      "## Target Audience Analysis\n",
      "\n",
      "AI enthusiasts, tech-savvy individuals, business professionals, students, researchers, and policymakers are the key audience segments interested in AI advancements, applications, and ethical implications. Stay updated on the latest trends and developments in Artificial Intelligence by subscribing to our blog for regular updates and insights.\n",
      "\n",
      "In conclusion, Artificial Intelligence is a transformative technology with the potential to reshape industries, enhance productivity, and improve decision-making processes. As AI continues to evolve, it is essential to stay informed about the latest trends, key players, and ethical considerations to navigate the complex landscape of AI development and deployment. Embracing AI responsibly and ethically will lead to a future where humans and machines collaborate harmoniously for the betterment of society.\n",
      "\n",
      "\u001b[00m\n",
      "\u001b[1m\u001b[95m [DEBUG]: == Working Agent: Editor\u001b[00m\n",
      "\u001b[1m\u001b[95m [INFO]: == Starting Task: Proofread the given blog post for grammatical errors and alignment with the brand's voice.\u001b[00m\n",
      "\n",
      "\n",
      "\u001b[1m> Entering new CrewAgentExecutor chain...\u001b[0m\n",
      "\u001b[32;1m\u001b[1;3mI now can give a great answer\n",
      "\n",
      "Final Answer:\n",
      "\n",
      "# The Rise of Artificial Intelligence: Trends, Players, and Ethical Considerations\n",
      "\n",
      "## Introduction\n",
      "\n",
      "Artificial Intelligence, commonly referred to as AI, is a rapidly evolving technology that strives to mimic human intelligence by learning from data, adapting to new information, and performing tasks that typically require human intelligence. The impact of AI spans various industries, from healthcare and finance to retail and transportation, revolutionizing processes and decision-making. The latest trends in AI showcase advancements in machine learning, natural language processing, robotics, and automation, paving the way for innovative solutions and unprecedented growth in the field.\n",
      "\n",
      "## Key Points\n",
      "\n",
      "### Latest Trends in AI\n",
      "\n",
      "1. **Machine Learning Advancements**: Machine learning algorithms continue to improve in accuracy and efficiency, enabling AI systems to learn from data and make predictions without explicit programming.\n",
      "\n",
      "2. **Natural Language Processing Innovations**: AI-driven natural language processing tools are enhancing communication between humans and machines, leading to breakthroughs in language translation, sentiment analysis, and chatbots.\n",
      "\n",
      "3. **AI in Robotics and Automation**: The integration of AI in robotics and automation processes is streamlining operations, increasing productivity, and enhancing safety in manufacturing, logistics, and other industries.\n",
      "\n",
      "4. **Ethical Considerations in AI Development**: As AI technologies become more prevalent, ethical considerations around data privacy, bias in algorithms, and job displacement are crucial aspects that require careful evaluation and regulation.\n",
      "\n",
      "### Key Players in AI\n",
      "\n",
      "1. **Google**: Google's deep investments in AI research and development have led to the creation of innovative products like Google Assistant, Google Translate, and autonomous vehicles through its subsidiary, Waymo.\n",
      "\n",
      "2. **IBM**: IBM's Watson AI platform is a pioneer in cognitive computing, offering solutions for healthcare, finance, and cybersecurity, and collaborating with organizations to leverage AI for business transformation.\n",
      "\n",
      "3. **Amazon**: Amazon's AI initiatives focus on improving customer experience through personalized recommendations, efficient logistics with robots, and voice-controlled devices like Amazon Echo powered by Alexa.\n",
      "\n",
      "4. **Microsoft**: Microsoft's AI capabilities drive digital transformation with Azure AI services, cognitive services, and conversational AI tools, empowering businesses to harness the power of AI for growth and innovation.\n",
      "\n",
      "### Noteworthy News in AI\n",
      "\n",
      "1. **Breakthroughs in AI Healthcare Applications**: AI technologies are revolutionizing healthcare with predictive analytics, medical imaging diagnosis, and personalized treatment plans, improving patient outcomes and reducing healthcare costs.\n",
      "\n",
      "2. **AI-Driven Customer Service Solutions**: Businesses are leveraging AI for customer service automation, chatbots, and virtual assistants to enhance customer satisfaction, resolve queries efficiently, and provide personalized experiences.\n",
      "\n",
      "3. **Government Regulations on AI Technology**: Governments worldwide are introducing regulations and guidelines to address ethical concerns, data protection, and transparency in AI development and deployment, ensuring responsible AI use and accountability.\n",
      "\n",
      "## Target Audience Analysis\n",
      "\n",
      "AI enthusiasts, tech-savvy individuals, business professionals, students, researchers, and policymakers are the key audience segments interested in AI advancements, applications, and ethical implications. Stay updated on the latest trends and developments in Artificial Intelligence by subscribing to our blog for regular updates and insights.\n",
      "\n",
      "In conclusion, Artificial Intelligence is a transformative technology with the potential to reshape industries, enhance productivity, and improve decision-making processes. As AI continues to evolve, it is essential to stay informed about the latest trends, key players, and ethical considerations to navigate the complex landscape of AI development and deployment. Embracing AI responsibly and ethically will lead to a future where humans and machines collaborate harmoniously for the betterment of society.\u001b[0m\n",
      "\n",
      "\u001b[1m> Finished chain.\u001b[0m\n",
      "\u001b[1m\u001b[92m [DEBUG]: == [Editor] Task output: # The Rise of Artificial Intelligence: Trends, Players, and Ethical Considerations\n",
      "\n",
      "## Introduction\n",
      "\n",
      "Artificial Intelligence, commonly referred to as AI, is a rapidly evolving technology that strives to mimic human intelligence by learning from data, adapting to new information, and performing tasks that typically require human intelligence. The impact of AI spans various industries, from healthcare and finance to retail and transportation, revolutionizing processes and decision-making. The latest trends in AI showcase advancements in machine learning, natural language processing, robotics, and automation, paving the way for innovative solutions and unprecedented growth in the field.\n",
      "\n",
      "## Key Points\n",
      "\n",
      "### Latest Trends in AI\n",
      "\n",
      "1. **Machine Learning Advancements**: Machine learning algorithms continue to improve in accuracy and efficiency, enabling AI systems to learn from data and make predictions without explicit programming.\n",
      "\n",
      "2. **Natural Language Processing Innovations**: AI-driven natural language processing tools are enhancing communication between humans and machines, leading to breakthroughs in language translation, sentiment analysis, and chatbots.\n",
      "\n",
      "3. **AI in Robotics and Automation**: The integration of AI in robotics and automation processes is streamlining operations, increasing productivity, and enhancing safety in manufacturing, logistics, and other industries.\n",
      "\n",
      "4. **Ethical Considerations in AI Development**: As AI technologies become more prevalent, ethical considerations around data privacy, bias in algorithms, and job displacement are crucial aspects that require careful evaluation and regulation.\n",
      "\n",
      "### Key Players in AI\n",
      "\n",
      "1. **Google**: Google's deep investments in AI research and development have led to the creation of innovative products like Google Assistant, Google Translate, and autonomous vehicles through its subsidiary, Waymo.\n",
      "\n",
      "2. **IBM**: IBM's Watson AI platform is a pioneer in cognitive computing, offering solutions for healthcare, finance, and cybersecurity, and collaborating with organizations to leverage AI for business transformation.\n",
      "\n",
      "3. **Amazon**: Amazon's AI initiatives focus on improving customer experience through personalized recommendations, efficient logistics with robots, and voice-controlled devices like Amazon Echo powered by Alexa.\n",
      "\n",
      "4. **Microsoft**: Microsoft's AI capabilities drive digital transformation with Azure AI services, cognitive services, and conversational AI tools, empowering businesses to harness the power of AI for growth and innovation.\n",
      "\n",
      "### Noteworthy News in AI\n",
      "\n",
      "1. **Breakthroughs in AI Healthcare Applications**: AI technologies are revolutionizing healthcare with predictive analytics, medical imaging diagnosis, and personalized treatment plans, improving patient outcomes and reducing healthcare costs.\n",
      "\n",
      "2. **AI-Driven Customer Service Solutions**: Businesses are leveraging AI for customer service automation, chatbots, and virtual assistants to enhance customer satisfaction, resolve queries efficiently, and provide personalized experiences.\n",
      "\n",
      "3. **Government Regulations on AI Technology**: Governments worldwide are introducing regulations and guidelines to address ethical concerns, data protection, and transparency in AI development and deployment, ensuring responsible AI use and accountability.\n",
      "\n",
      "## Target Audience Analysis\n",
      "\n",
      "AI enthusiasts, tech-savvy individuals, business professionals, students, researchers, and policymakers are the key audience segments interested in AI advancements, applications, and ethical implications. Stay updated on the latest trends and developments in Artificial Intelligence by subscribing to our blog for regular updates and insights.\n",
      "\n",
      "In conclusion, Artificial Intelligence is a transformative technology with the potential to reshape industries, enhance productivity, and improve decision-making processes. As AI continues to evolve, it is essential to stay informed about the latest trends, key players, and ethical considerations to navigate the complex landscape of AI development and deployment. Embracing AI responsibly and ethically will lead to a future where humans and machines collaborate harmoniously for the betterment of society.\n",
      "\n",
      "\u001b[00m\n"
     ]
    }
   ],
   "source": [
    "result = crew.kickoff(inputs={\"topic\": \"Artificial Intelligence\"})"
   ]
  },
  {
   "cell_type": "markdown",
   "metadata": {},
   "source": [
    "- Display the results of your execution as markdown in the notebook."
   ]
  },
  {
   "cell_type": "code",
   "execution_count": null,
   "metadata": {
    "height": 47
   },
   "outputs": [],
   "source": [
    "from IPython.display import Markdown\n",
    "Markdown(result)"
   ]
  },
  {
   "cell_type": "markdown",
   "metadata": {},
   "source": [
    "## Try it Yourself\n",
    "\n",
    "- Pass in a topic of your choice and see what the agents come up with!"
   ]
  },
  {
   "cell_type": "code",
   "execution_count": null,
   "metadata": {
    "height": 47
   },
   "outputs": [],
   "source": [
    "topic = \"YOUR TOPIC HERE\"\n",
    "result = crew.kickoff(inputs={\"topic\": topic})"
   ]
  },
  {
   "cell_type": "code",
   "execution_count": null,
   "metadata": {
    "height": 30
   },
   "outputs": [],
   "source": [
    "Markdown(result)"
   ]
  },
  {
   "cell_type": "markdown",
   "metadata": {},
   "source": [
    "<a name='1'></a>\n",
    " ## Other Popular Models as LLM for your Agents"
   ]
  },
  {
   "cell_type": "markdown",
   "metadata": {},
   "source": [
    "#### Hugging Face (HuggingFaceHub endpoint)\n",
    "\n",
    "```Python\n",
    "from langchain_community.llms import HuggingFaceHub\n",
    "\n",
    "llm = HuggingFaceHub(\n",
    "    repo_id=\"HuggingFaceH4/zephyr-7b-beta\",\n",
    "    huggingfacehub_api_token=\"<HF_TOKEN_HERE>\",\n",
    "    task=\"text-generation\",\n",
    ")\n",
    "\n",
    "### you will pass \"llm\" to your agent function\n",
    "```"
   ]
  },
  {
   "cell_type": "markdown",
   "metadata": {},
   "source": [
    "#### Mistral API\n",
    "\n",
    "```Python\n",
    "OPENAI_API_KEY=your-mistral-api-key\n",
    "OPENAI_API_BASE=https://api.mistral.ai/v1\n",
    "OPENAI_MODEL_NAME=\"mistral-small\"\n",
    "```"
   ]
  },
  {
   "cell_type": "markdown",
   "metadata": {},
   "source": [
    "#### Cohere\n",
    "\n",
    "```Python\n",
    "from langchain_community.chat_models import ChatCohere\n",
    "# Initialize language model\n",
    "os.environ[\"COHERE_API_KEY\"] = \"your-cohere-api-key\"\n",
    "llm = ChatCohere()\n",
    "\n",
    "### you will pass \"llm\" to your agent function\n",
    "```"
   ]
  },
  {
   "cell_type": "markdown",
   "metadata": {},
   "source": [
    "### For using Llama locally with Ollama and more, checkout the crewAI documentation on [Connecting to any LLM](https://docs.crewai.com/how-to/LLM-Connections/)."
   ]
  },
  {
   "cell_type": "code",
   "execution_count": null,
   "metadata": {
    "height": 30
   },
   "outputs": [],
   "source": []
  },
  {
   "cell_type": "code",
   "execution_count": null,
   "metadata": {
    "height": 30
   },
   "outputs": [],
   "source": []
  },
  {
   "cell_type": "code",
   "execution_count": null,
   "metadata": {
    "height": 30
   },
   "outputs": [],
   "source": []
  }
 ],
 "metadata": {
  "colab": {
   "gpuType": "T4",
   "provenance": []
  },
  "kernelspec": {
   "display_name": "venv",
   "language": "python",
   "name": "python3"
  },
  "language_info": {
   "codemirror_mode": {
    "name": "ipython",
    "version": 3
   },
   "file_extension": ".py",
   "mimetype": "text/x-python",
   "name": "python",
   "nbconvert_exporter": "python",
   "pygments_lexer": "ipython3",
   "version": "3.10.16"
  }
 },
 "nbformat": 4,
 "nbformat_minor": 4
}
